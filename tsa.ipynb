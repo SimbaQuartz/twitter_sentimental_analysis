{
 "cells": [
  {
   "cell_type": "markdown",
   "metadata": {},
   "source": [
    "# 1.1 Introduction:\n",
    "Sentimental analysis is a procedure of determining whether a piece of writing (microblogging in twitter here) is  positive, negative or neutral using several computations. It is mainly used for determining the attitude of a speaker and is also known as opinion mining.\n",
    "\n",
    "\n",
    "# 1.2 Practical uses of Sentimental analysis: \n",
    "1. Inform and make operational improvements or capital expenditures. \n",
    "2. Evaluate guest likes and dislikes for your property AND your competitors’ properties.\n",
    "3. Apply Sentiment Analysis for surveys. \n",
    "4. Understand your guests better ;-)\n",
    "\n",
    "\n",
    "# 1.3 Objective:\n",
    "To perform sentimental analysis on the tweets related to Bitcoin\n",
    "\n",
    "\n",
    "# 1.4 Requirements: \n",
    "1. Python\n",
    "2. Python libraies including collections, tweepy and csv\n",
    "3. Aylien text analysis api\n",
    "\n",
    "\n",
    "# 1.5 Preprocessing\n",
    "\n",
    "####  1.5.1  Hashtags\n",
    "\n",
    "A hashtag is a word or an un-spaced phrase prefixed with the hash symbol (#).\n",
    "These are used to both naming subjects and phrases that are currently in\n",
    "trending topics. For example, #iPad, #news\n",
    "\n",
    "Regular Expression: `#(\\w+)`\n",
    "\n",
    "Replace Expression: `HASH_\\1`\n",
    "\n",
    "####  1.5.2  Handles\n",
    "\n",
    "Every Twitter user has a unique username. Any thing directed towards that user\n",
    "can be indicated be writing their username preceded by ‘@’. Thus, these are\n",
    "like proper nouns. For example, @Apple\n",
    "\n",
    "Regular Expression: `@(\\w+)`\n",
    "\n",
    "Replace Expression: `HNDL_\\1`\n",
    "\n",
    "####  1.5.3  URLs\n",
    "\n",
    "Users often share hyperlinks in their tweets. Twitter shortens them using its\n",
    "in-house URL shortening service, like https://t.co/1uoxlp8FwN - such links also\n",
    "enables Twitter to alert users if the link leads out of its domain. From the\n",
    "point of view of text classification, a particular URL is not important.\n",
    "However, presence of a URL can be an important feature. Regular expression for\n",
    "detecting a URL is fairly complex because of different types of URLs that can\n",
    "be there, but because of Twitter’s shortening service, we can use a relatively\n",
    "simple regular expression.\n",
    "\n",
    "Regular Expression: `(http|https|ftp)://[a-zA-Z0-9\\\\./]+`\n",
    "\n",
    "Replace Expression: `URL`\n",
    "\n",
    "####  1.5.4  Emoticons\n",
    "\n",
    "Use of emoticons is very prevalent throughout the web, more so on micro-\n",
    "blogging sites. We identify the following emoticons and replace them with a\n",
    "single word. Table 4 lists the emoticons we are currently detecting. All other\n",
    "emoticons would be ignored.\n",
    "\n",
    "<div style=\"text-align:center\"> \n",
    "<table border=\"1\">\n",
    "<tr><td colspan=\"1\" align=\"center\">Emoticons </td><td colspan=\"6\" align=\"center\">Examples </td></tr>\n",
    "<tr><td align=\"left\"><tt>EMOT_SMILEY</tt>   </td><td align=\"left\"><tt>:-)</tt>  </td><td align=\"left\"><tt>:)</tt>   </td><td align=\"left\"><tt>(:</tt>   </td><td align=\"left\"><tt>(-:</tt>  </td><td align=\"left\"><tt></tt>     </td><td align=\"left\"><tt></tt> </td></tr>\n",
    "<tr><td align=\"left\"><tt>EMOT_LAUGH</tt>    </td><td align=\"left\"><tt>:-D</tt>  </td><td align=\"left\"><tt>:D</tt>   </td><td align=\"left\"><tt>X-D</tt>  </td><td align=\"left\"><tt>XD</tt>   </td><td align=\"left\"><tt>xD</tt>   </td><td align=\"left\"><tt></tt> </td></tr>\n",
    "<tr><td align=\"left\"><tt>EMOT_LOVE</tt>     </td><td align=\"left\"><tt>&lt;3</tt>    </td><td align=\"left\"><tt>:*</tt>   </td><td align=\"left\"><tt></tt>     </td><td align=\"left\"><tt></tt>     </td><td align=\"left\"><tt></tt>     </td><td align=\"left\"><tt></tt> </td></tr>\n",
    "<tr><td align=\"left\"><tt>EMOT_WINK</tt>     </td><td align=\"left\"><tt>;-)</tt>  </td><td align=\"left\"><tt>;)</tt>   </td><td align=\"left\"><tt>;-D</tt>  </td><td align=\"left\"><tt>;D</tt>   </td><td align=\"left\"><tt>(;</tt>   </td><td align=\"left\"><tt>(-;</tt> </td></tr>\n",
    "<tr><td align=\"left\"><tt>EMOT_FROWN</tt>    </td><td align=\"left\"><tt>:-(</tt>  </td><td align=\"left\"><tt>:(</tt>   </td><td align=\"left\"><tt>(:</tt>   </td><td align=\"left\"><tt>(-:</tt>  </td><td align=\"left\"><tt></tt>     </td><td align=\"left\"><tt></tt> </td></tr>\n",
    "<tr><td align=\"left\"><tt>EMOT_CRY</tt>  </td><td align=\"left\"><tt>:,(</tt>  </td><td align=\"left\"><tt>:'(</tt>  </td><td align=\"left\"><tt>:\"(</tt>  </td><td align=\"left\"><tt>:((</tt>  </td><td align=\"left\"><tt></tt>     </td><td align=\"left\"><tt></tt> </td></tr></table>\n",
    "\n",
    "\n",
    "<div style=\"text-align:center\">Table 4: List of Emoticons</div>\n",
    "<a id=\"tab:emot\">\n",
    "</a>\n",
    "</div>\n",
    "\n",
    "####  1.5.5  Punctuations\n",
    "\n",
    "Although not all Punctuations are important from the point of view of\n",
    "classification but some of these, like question mark, exclamation mark can\n",
    "also provide information about the sentiments of the text. We replace every\n",
    "word boundary by a list of relevant punctuations present at that point. Table\n",
    "5 lists the punctuations currently identified. We also remove any single\n",
    "quotes that might exist in the text.\n",
    "\n",
    "<div style=\"text-align:center\"> \n",
    "<table border=\"1\">\n",
    "<tr><td colspan=\"1\" align=\"center\">Punctuations </td><td colspan=\"2\" align=\"center\">Examples </td></tr>\n",
    "<tr><td align=\"left\"><tt>PUNC_DOT</tt> </td><td align=\"left\"><tt>.</tt> </td><td align=\"left\"><tt></tt> </td></tr>\n",
    "<tr><td align=\"left\"><tt>PUNC_EXCL</tt> </td><td align=\"left\"><tt>!</tt> </td><td align=\"left\"><tt>¡</tt> </td></tr>\n",
    "<tr><td align=\"left\"><tt>PUNC_QUES</tt> </td><td align=\"left\"><tt>?</tt> </td><td align=\"left\"><tt>¿</tt> </td></tr>\n",
    "<tr><td align=\"left\"><tt>PUNC_ELLP</tt> </td><td align=\"left\"><tt>...</tt> </td><td align=\"left\"><tt>…</tt> </td></tr></table>\n",
    "\n",
    "\n",
    "<div style=\"text-align:center\">Table 5: List of Punctuations</div>\n",
    "<a id=\"tab:punc\">\n",
    "</a>\n",
    "</div>\n",
    "\n",
    "####  1.6.6  Repeating Characters\n",
    "\n",
    "People often use repeating characters while using colloquial language, like\n",
    "\"I’m in a hurrryyyyy\", \"We won, yaaayyyyy!\" As our final pre-processing step,\n",
    "we replace characters repeating more than twice as two characters.\n",
    "\n",
    "Regular Expression: `(.)\\1{1,}`\n",
    "\n",
    "Replace Expression: `\\1\\1`\n",
    "\n",
    "##### source for 1.5: https://github.com/ayushoriginal/Sentiment-Analysis-Twitter/blob/master/README.md\n",
    "\n",
    "# 1.6 Classifier used:\n",
    "\n",
    "On little research and testing it was found that <b>SVM, Naive Bayes and maximum entropy </b> are one of the best supervised machine learning algorithms for sentimental analysis. \n",
    "\n",
    "On furthur research, I realised that <b>SVM</b> is superior as compared to naive bayes and maximum entropy.\n",
    "\n",
    "That's why SVM classifier is used inorder to achieve more accuracy.\n",
    "\n",
    "# 1.6 About training data:\n",
    "\n",
    "The training data was collected by polling the Twitter API every four hours from April to December 2012 in search of tweets with either a positive word hashtag or a negative word hash- tag.A set of 775,000 tweets were used to generate a large word–sentiment association lexicon.Out of 775,000 tweets, 8,891 tweets were randomly selected for the training of SVM classifier. I contacted the team who collected the training data and leared that it is <b>Humanly Annotated</b>.\n",
    "\n",
    "# 1.7 Sentimental Analysis of Tweets about Bitcoin\n",
    "### 1.7.1 CSV File Sample:-"
   ]
  },
  {
   "cell_type": "code",
   "execution_count": 1,
   "metadata": {},
   "outputs": [
    {
     "data": {
      "text/html": [
       "<div>\n",
       "<style scoped>\n",
       "    .dataframe tbody tr th:only-of-type {\n",
       "        vertical-align: middle;\n",
       "    }\n",
       "\n",
       "    .dataframe tbody tr th {\n",
       "        vertical-align: top;\n",
       "    }\n",
       "\n",
       "    .dataframe thead th {\n",
       "        text-align: right;\n",
       "    }\n",
       "</style>\n",
       "<table border=\"1\" class=\"dataframe\">\n",
       "  <thead>\n",
       "    <tr style=\"text-align: right;\">\n",
       "      <th></th>\n",
       "      <th>tweets</th>\n",
       "      <th>sentiment</th>\n",
       "    </tr>\n",
       "  </thead>\n",
       "  <tbody>\n",
       "    <tr>\n",
       "      <th>0</th>\n",
       "      <td>RT @OpenPlatformICO: Move over Bitpay: How OPE...</td>\n",
       "      <td>neutral</td>\n",
       "    </tr>\n",
       "    <tr>\n",
       "      <th>1</th>\n",
       "      <td>In the City, a thriving metropolis encompassin...</td>\n",
       "      <td>neutral</td>\n",
       "    </tr>\n",
       "    <tr>\n",
       "      <th>2</th>\n",
       "      <td>RT @Pecun_io: OUR ADVISOR MR. DAVID DRAKE ON F...</td>\n",
       "      <td>neutral</td>\n",
       "    </tr>\n",
       "    <tr>\n",
       "      <th>3</th>\n",
       "      <td>RT @witchaindev: Airdrop 🍬🍬#100 WIT tokens（val...</td>\n",
       "      <td>positive</td>\n",
       "    </tr>\n",
       "    <tr>\n",
       "      <th>4</th>\n",
       "      <td>In the City, a thriving metropolis encompassin...</td>\n",
       "      <td>neutral</td>\n",
       "    </tr>\n",
       "    <tr>\n",
       "      <th>5</th>\n",
       "      <td>RT @Bleeding_Crypto: STOP! There is no big sur...</td>\n",
       "      <td>neutral</td>\n",
       "    </tr>\n",
       "    <tr>\n",
       "      <th>6</th>\n",
       "      <td>@im_uname @BTCNewsUpdates @SeatacBCH @KingDevo...</td>\n",
       "      <td>negative</td>\n",
       "    </tr>\n",
       "    <tr>\n",
       "      <th>7</th>\n",
       "      <td>RT @MarketWatch: The era of overnight bitcoin ...</td>\n",
       "      <td>neutral</td>\n",
       "    </tr>\n",
       "    <tr>\n",
       "      <th>8</th>\n",
       "      <td>Coinbase to Let Users Withdraw Funds from Bitc...</td>\n",
       "      <td>neutral</td>\n",
       "    </tr>\n",
       "    <tr>\n",
       "      <th>9</th>\n",
       "      <td>RT @escobar_inc: 【Dietbitcoin】Fork of Bitcoin ...</td>\n",
       "      <td>neutral</td>\n",
       "    </tr>\n",
       "  </tbody>\n",
       "</table>\n",
       "</div>"
      ],
      "text/plain": [
       "                                              tweets sentiment\n",
       "0  RT @OpenPlatformICO: Move over Bitpay: How OPE...   neutral\n",
       "1  In the City, a thriving metropolis encompassin...   neutral\n",
       "2  RT @Pecun_io: OUR ADVISOR MR. DAVID DRAKE ON F...   neutral\n",
       "3  RT @witchaindev: Airdrop 🍬🍬#100 WIT tokens（val...  positive\n",
       "4  In the City, a thriving metropolis encompassin...   neutral\n",
       "5  RT @Bleeding_Crypto: STOP! There is no big sur...   neutral\n",
       "6  @im_uname @BTCNewsUpdates @SeatacBCH @KingDevo...  negative\n",
       "7  RT @MarketWatch: The era of overnight bitcoin ...   neutral\n",
       "8  Coinbase to Let Users Withdraw Funds from Bitc...   neutral\n",
       "9  RT @escobar_inc: 【Dietbitcoin】Fork of Bitcoin ...   neutral"
      ]
     },
     "execution_count": 1,
     "metadata": {},
     "output_type": "execute_result"
    }
   ],
   "source": [
    "import pandas as pd\n",
    "from IPython.display import display\n",
    "from IPython.display import Image\n",
    "sample = pd.read_csv('final_data.csv')\n",
    "neutral = 0\n",
    "positive = 0\n",
    "negative = 0\n",
    "for i in sample['sentiment']:\n",
    "    if i == 'neutral':\n",
    "        neutral+=1\n",
    "    elif i == 'positive':\n",
    "        positive+=1\n",
    "    elif i == 'negative':\n",
    "        negative+=1\n",
    "        \n",
    "pd.options.display.max_columns = None\n",
    "sample.head(10)"
   ]
  },
  {
   "cell_type": "markdown",
   "metadata": {},
   "source": [
    "### 1.7.2 Analysis on Pie Chart:-"
   ]
  },
  {
   "cell_type": "code",
   "execution_count": 2,
   "metadata": {},
   "outputs": [
    {
     "data": {
      "text/html": [
       "<script>requirejs.config({paths: { 'plotly': ['https://cdn.plot.ly/plotly-latest.min']},});if(!window.Plotly) {{require(['plotly'],function(plotly) {window.Plotly=plotly;});}}</script>"
      ],
      "text/vnd.plotly.v1+html": [
       "<script>requirejs.config({paths: { 'plotly': ['https://cdn.plot.ly/plotly-latest.min']},});if(!window.Plotly) {{require(['plotly'],function(plotly) {window.Plotly=plotly;});}}</script>"
      ]
     },
     "metadata": {},
     "output_type": "display_data"
    },
    {
     "name": "stdout",
     "output_type": "stream",
     "text": [
      "157805 38375 8052 111378\n"
     ]
    },
    {
     "data": {
      "application/vnd.plotly.v1+json": {
       "data": [
        {
         "domain": {
          "x": [
           7,
           7
          ],
          "y": [
           7,
           7
          ]
         },
         "hoverinfo": "label+percent",
         "labels": [
          "Positive",
          "Negative",
          "Neutral"
         ],
         "marker": {
          "colors": [
           "#30a832",
           "#fc2c19",
           "#fcd219"
          ],
          "line": {
           "color": "#000000",
           "width": 3
          }
         },
         "type": "pie",
         "values": [
          38375,
          8052,
          111378
         ]
        }
       ],
       "layout": {
        "autosize": true,
        "title": "Tweets Analysed on Bitcoin"
       }
      },
      "text/html": [
       "<div id=\"3e8fd5e5-f2bd-46aa-8923-bbd7673bdefe\" style=\"height: 525px; width: 100%;\" class=\"plotly-graph-div\"></div><script type=\"text/javascript\">require([\"plotly\"], function(Plotly) { window.PLOTLYENV=window.PLOTLYENV || {};window.PLOTLYENV.BASE_URL=\"https://plot.ly\";Plotly.newPlot(\"3e8fd5e5-f2bd-46aa-8923-bbd7673bdefe\", [{\"values\": [38375, 8052, 111378], \"marker\": {\"line\": {\"color\": \"#000000\", \"width\": 3}, \"colors\": [\"#30a832\", \"#fc2c19\", \"#fcd219\"]}, \"type\": \"pie\", \"hoverinfo\": \"label+percent\", \"labels\": [\"Positive\", \"Negative\", \"Neutral\"], \"domain\": {\"y\": [7.0, 7.0], \"x\": [7.0, 7.0]}}], {\"title\": \"Tweets Analysed on Bitcoin\", \"autosize\": true}, {\"linkText\": \"Export to plot.ly\", \"showLink\": false})});</script>"
      ],
      "text/vnd.plotly.v1+html": [
       "<div id=\"3e8fd5e5-f2bd-46aa-8923-bbd7673bdefe\" style=\"height: 525px; width: 100%;\" class=\"plotly-graph-div\"></div><script type=\"text/javascript\">require([\"plotly\"], function(Plotly) { window.PLOTLYENV=window.PLOTLYENV || {};window.PLOTLYENV.BASE_URL=\"https://plot.ly\";Plotly.newPlot(\"3e8fd5e5-f2bd-46aa-8923-bbd7673bdefe\", [{\"values\": [38375, 8052, 111378], \"marker\": {\"line\": {\"color\": \"#000000\", \"width\": 3}, \"colors\": [\"#30a832\", \"#fc2c19\", \"#fcd219\"]}, \"type\": \"pie\", \"hoverinfo\": \"label+percent\", \"labels\": [\"Positive\", \"Negative\", \"Neutral\"], \"domain\": {\"y\": [7.0, 7.0], \"x\": [7.0, 7.0]}}], {\"title\": \"Tweets Analysed on Bitcoin\", \"autosize\": true}, {\"linkText\": \"Export to plot.ly\", \"showLink\": false})});</script>"
      ]
     },
     "metadata": {},
     "output_type": "display_data"
    }
   ],
   "source": [
    "import plotly\n",
    "import plotly.offline as py\n",
    "import plotly.graph_objs as go\n",
    "py.init_notebook_mode(connected=True)\n",
    "\n",
    "labels = ['Positive', 'Negative', 'Neutral']\n",
    "values = [positive,negative,neutral]\n",
    "colors = ['#30a832', '#fc2c19', '#fcd219']\n",
    "print (positive+negative+neutral, positive, negative, neutral)\n",
    "domains = [\n",
    "    {'x': [7.0, 7.0], 'y': [7.0, 7.0]}\n",
    "]\n",
    "traces = []\n",
    "\n",
    "for domain in domains:\n",
    "    trace = go.Pie(labels = labels,\n",
    "                   values = values,\n",
    "                   domain = domain,\n",
    "                   hoverinfo = 'label+percent',\n",
    "                  marker=dict(colors=colors, \n",
    "                           line=dict(color='#000000', width=3)))\n",
    "    traces.append(trace)\n",
    "\n",
    "layout = go.Layout(\n",
    "                   autosize = True,\n",
    "                   title = 'Tweets Analysed on Bitcoin')\n",
    "fig = go.Figure(data = traces, layout = layout)\n",
    "py.offline.iplot(fig, show_link = False)"
   ]
  },
  {
   "cell_type": "markdown",
   "metadata": {},
   "source": [
    "### 1.7.3 Description of Chart:\n",
    "Chart above represents the tweets on <b>Bitcoin</b> posted between  <b>4-08-2018 23:59:59</b> and <b>5-08-2018 23:59:59</b> in the geogrephic region of <b>39.8,-95.583068847656,2500km</b> which covers all the states of America and major part of Canada. \n",
    "\n",
    "On summing up, there are 157805 in total out of which  <b>38375</b> are positive, <b>8052</b> are negative and <b>111378</b> are neutral."
   ]
  },
  {
   "cell_type": "markdown",
   "metadata": {},
   "source": [
    "## 1.8 Observations:\n",
    "1. Two classifiers i.e Majority classifier and SVM classifier was used. Peak accuracy of Majority classifier was 38.38% while accuracy of SVM classifier was <b>88.93</b> percent.\n",
    "2. The classifier only works on tweets in english language and predicts neutral on rest of the languages. Hence only english tweets were used for predictions and other tweets were ommited.\n",
    "3. Sentimental analysis on tweets can also be performed by using gradient boosting models yet little more research still required to be done.\n",
    "4. I can only mine <b>72,000</b> tweets per hour as per the lastest tems and conditions of twitter and was able to achieve this number using few trciks.  \n",
    "\n",
    "## 1.9 Conclusion:\n",
    "On the basis of research done until now, SVM has proved to be the best in terms of stability and peak accuracy of <b>88.93%</b>. "
   ]
  }
 ],
 "metadata": {
  "kernelspec": {
   "display_name": "Python 3",
   "language": "python",
   "name": "python3"
  },
  "language_info": {
   "codemirror_mode": {
    "name": "ipython",
    "version": 3
   },
   "file_extension": ".py",
   "mimetype": "text/x-python",
   "name": "python",
   "nbconvert_exporter": "python",
   "pygments_lexer": "ipython3",
   "version": "3.5.2"
  }
 },
 "nbformat": 4,
 "nbformat_minor": 2
}
