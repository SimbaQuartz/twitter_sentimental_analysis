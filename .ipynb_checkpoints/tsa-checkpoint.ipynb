{
 "cells": [
  {
   "cell_type": "markdown",
   "metadata": {},
   "source": [
    "# 1.1 Introduction:\n",
    "Sentimental analysis is a procedure of determining whether a piece of writing (microblogging in twitter here) is  positive, negative or neutral using several computations. It is mainly used for determining the attitude of a speaker and is also known as opinion mining.\n",
    "\n",
    "\n",
    "# 1.2 Practical uses of Sentimental analysis: \n",
    "1. Inform and make operational improvements or capital expenditures. \n",
    "2. Evaluate guest likes and dislikes for your property AND your competitors’ properties.\n",
    "3. Apply Sentiment Analysis for surveys. \n",
    "4. Understand your guests better ;-)\n",
    "\n",
    "\n",
    "# 1.3 Objective:\n",
    "To perform sentimental analysis on the 100 random tweets related to:\n",
    "1. Donald Trump\n",
    "2. IPL\n",
    "3. Avengers\n",
    "\n",
    "\n",
    "# 1.4 Requirements: \n",
    "1. Python\n",
    "2. Python libraies including collections, tweepy and csv\n",
    "3. Aylien text analysis api\n",
    "\n",
    "\n",
    "# 1.5 Preprocessing\n",
    "\n",
    "####  1.5.1  Hashtags\n",
    "\n",
    "A hashtag is a word or an un-spaced phrase prefixed with the hash symbol (#).\n",
    "These are used to both naming subjects and phrases that are currently in\n",
    "trending topics. For example, #iPad, #news\n",
    "\n",
    "Regular Expression: `#(\\w+)`\n",
    "\n",
    "Replace Expression: `HASH_\\1`\n",
    "\n",
    "####  1.5.2  Handles\n",
    "\n",
    "Every Twitter user has a unique username. Any thing directed towards that user\n",
    "can be indicated be writing their username preceded by ‘@’. Thus, these are\n",
    "like proper nouns. For example, @Apple\n",
    "\n",
    "Regular Expression: `@(\\w+)`\n",
    "\n",
    "Replace Expression: `HNDL_\\1`\n",
    "\n",
    "####  1.5.3  URLs\n",
    "\n",
    "Users often share hyperlinks in their tweets. Twitter shortens them using its\n",
    "in-house URL shortening service, like https://t.co/1uoxlp8FwN - such links also\n",
    "enables Twitter to alert users if the link leads out of its domain. From the\n",
    "point of view of text classification, a particular URL is not important.\n",
    "However, presence of a URL can be an important feature. Regular expression for\n",
    "detecting a URL is fairly complex because of different types of URLs that can\n",
    "be there, but because of Twitter’s shortening service, we can use a relatively\n",
    "simple regular expression.\n",
    "\n",
    "Regular Expression: `(http|https|ftp)://[a-zA-Z0-9\\\\./]+`\n",
    "\n",
    "Replace Expression: `URL`\n",
    "\n",
    "####  1.5.4  Emoticons\n",
    "\n",
    "Use of emoticons is very prevalent throughout the web, more so on micro-\n",
    "blogging sites. We identify the following emoticons and replace them with a\n",
    "single word. Table 4 lists the emoticons we are currently detecting. All other\n",
    "emoticons would be ignored.\n",
    "\n",
    "<div style=\"text-align:center\"> \n",
    "<table border=\"1\">\n",
    "<tr><td colspan=\"1\" align=\"center\">Emoticons </td><td colspan=\"6\" align=\"center\">Examples </td></tr>\n",
    "<tr><td align=\"left\"><tt>EMOT_SMILEY</tt>   </td><td align=\"left\"><tt>:-)</tt>  </td><td align=\"left\"><tt>:)</tt>   </td><td align=\"left\"><tt>(:</tt>   </td><td align=\"left\"><tt>(-:</tt>  </td><td align=\"left\"><tt></tt>     </td><td align=\"left\"><tt></tt> </td></tr>\n",
    "<tr><td align=\"left\"><tt>EMOT_LAUGH</tt>    </td><td align=\"left\"><tt>:-D</tt>  </td><td align=\"left\"><tt>:D</tt>   </td><td align=\"left\"><tt>X-D</tt>  </td><td align=\"left\"><tt>XD</tt>   </td><td align=\"left\"><tt>xD</tt>   </td><td align=\"left\"><tt></tt> </td></tr>\n",
    "<tr><td align=\"left\"><tt>EMOT_LOVE</tt>     </td><td align=\"left\"><tt>&lt;3</tt>    </td><td align=\"left\"><tt>:*</tt>   </td><td align=\"left\"><tt></tt>     </td><td align=\"left\"><tt></tt>     </td><td align=\"left\"><tt></tt>     </td><td align=\"left\"><tt></tt> </td></tr>\n",
    "<tr><td align=\"left\"><tt>EMOT_WINK</tt>     </td><td align=\"left\"><tt>;-)</tt>  </td><td align=\"left\"><tt>;)</tt>   </td><td align=\"left\"><tt>;-D</tt>  </td><td align=\"left\"><tt>;D</tt>   </td><td align=\"left\"><tt>(;</tt>   </td><td align=\"left\"><tt>(-;</tt> </td></tr>\n",
    "<tr><td align=\"left\"><tt>EMOT_FROWN</tt>    </td><td align=\"left\"><tt>:-(</tt>  </td><td align=\"left\"><tt>:(</tt>   </td><td align=\"left\"><tt>(:</tt>   </td><td align=\"left\"><tt>(-:</tt>  </td><td align=\"left\"><tt></tt>     </td><td align=\"left\"><tt></tt> </td></tr>\n",
    "<tr><td align=\"left\"><tt>EMOT_CRY</tt>  </td><td align=\"left\"><tt>:,(</tt>  </td><td align=\"left\"><tt>:'(</tt>  </td><td align=\"left\"><tt>:\"(</tt>  </td><td align=\"left\"><tt>:((</tt>  </td><td align=\"left\"><tt></tt>     </td><td align=\"left\"><tt></tt> </td></tr></table>\n",
    "\n",
    "\n",
    "<div style=\"text-align:center\">Table 4: List of Emoticons</div>\n",
    "<a id=\"tab:emot\">\n",
    "</a>\n",
    "</div>\n",
    "\n",
    "####  1.5.5  Punctuations\n",
    "\n",
    "Although not all Punctuations are important from the point of view of\n",
    "classification but some of these, like question mark, exclamation mark can\n",
    "also provide information about the sentiments of the text. We replace every\n",
    "word boundary by a list of relevant punctuations present at that point. Table\n",
    "5 lists the punctuations currently identified. We also remove any single\n",
    "quotes that might exist in the text.\n",
    "\n",
    "<div style=\"text-align:center\"> \n",
    "<table border=\"1\">\n",
    "<tr><td colspan=\"1\" align=\"center\">Punctuations </td><td colspan=\"2\" align=\"center\">Examples </td></tr>\n",
    "<tr><td align=\"left\"><tt>PUNC_DOT</tt> </td><td align=\"left\"><tt>.</tt> </td><td align=\"left\"><tt></tt> </td></tr>\n",
    "<tr><td align=\"left\"><tt>PUNC_EXCL</tt> </td><td align=\"left\"><tt>!</tt> </td><td align=\"left\"><tt>¡</tt> </td></tr>\n",
    "<tr><td align=\"left\"><tt>PUNC_QUES</tt> </td><td align=\"left\"><tt>?</tt> </td><td align=\"left\"><tt>¿</tt> </td></tr>\n",
    "<tr><td align=\"left\"><tt>PUNC_ELLP</tt> </td><td align=\"left\"><tt>...</tt> </td><td align=\"left\"><tt>…</tt> </td></tr></table>\n",
    "\n",
    "\n",
    "<div style=\"text-align:center\">Table 5: List of Punctuations</div>\n",
    "<a id=\"tab:punc\">\n",
    "</a>\n",
    "</div>\n",
    "\n",
    "####  1.6.6  Repeating Characters\n",
    "\n",
    "People often use repeating characters while using colloquial language, like\n",
    "\"I’m in a hurrryyyyy\", \"We won, yaaayyyyy!\" As our final pre-processing step,\n",
    "we replace characters repeating more than twice as two characters.\n",
    "\n",
    "Regular Expression: `(.)\\1{1,}`\n",
    "\n",
    "Replace Expression: `\\1\\1`\n",
    "\n",
    "##### source for 1.5: https://github.com/ayushoriginal/Sentiment-Analysis-Twitter/blob/master/README.md\n"
   ]
  },
  {
   "cell_type": "code",
   "execution_count": 43,
   "metadata": {},
   "outputs": [],
   "source": [
    "import pandas as pd\n",
    "from IPython.display import display\n",
    "from IPython.display import Image\n",
    "sample = pd.read_csv('Sentiment_Analysis_of_100_Tweets_About_trump.csv')\n",
    "neutral = 0\n",
    "positive = 0\n",
    "negative = 0\n",
    "for i in sample['Sentiment']:\n",
    "    if i == 'neutral':\n",
    "        neutral+=1\n",
    "    elif i == 'positive':\n",
    "        positive+=1\n",
    "    elif i == 'negative':\n",
    "        negative+=1"
   ]
  },
  {
   "cell_type": "markdown",
   "metadata": {},
   "source": [
    "# 1.6 Sentimental Analysis of 100 Tweets about Donald Trump\n",
    "### 1.6.1 CSV File Sample:-"
   ]
  },
  {
   "cell_type": "code",
   "execution_count": 44,
   "metadata": {},
   "outputs": [
    {
     "data": {
      "text/html": [
       "<div>\n",
       "<style scoped>\n",
       "    .dataframe tbody tr th:only-of-type {\n",
       "        vertical-align: middle;\n",
       "    }\n",
       "\n",
       "    .dataframe tbody tr th {\n",
       "        vertical-align: top;\n",
       "    }\n",
       "\n",
       "    .dataframe thead th {\n",
       "        text-align: right;\n",
       "    }\n",
       "</style>\n",
       "<table border=\"1\" class=\"dataframe\">\n",
       "  <thead>\n",
       "    <tr style=\"text-align: right;\">\n",
       "      <th></th>\n",
       "      <th>Tweet</th>\n",
       "      <th>Sentiment</th>\n",
       "    </tr>\n",
       "  </thead>\n",
       "  <tbody>\n",
       "    <tr>\n",
       "      <th>0</th>\n",
       "      <td>@TomiLahren Jay Z poster boy of scum and ghett...</td>\n",
       "      <td>negative</td>\n",
       "    </tr>\n",
       "    <tr>\n",
       "      <th>1</th>\n",
       "      <td>Texas elected official gets misdemeanor, accus...</td>\n",
       "      <td>neutral</td>\n",
       "    </tr>\n",
       "    <tr>\n",
       "      <th>2</th>\n",
       "      <td>White House chief of staff urges Trump to remo...</td>\n",
       "      <td>neutral</td>\n",
       "    </tr>\n",
       "    <tr>\n",
       "      <th>3</th>\n",
       "      <td>@Ronsmithracing2 @FlashResists @realDonaldTrum...</td>\n",
       "      <td>neutral</td>\n",
       "    </tr>\n",
       "    <tr>\n",
       "      <th>4</th>\n",
       "      <td>@ZekeJMiller Trump is a liar. \\nThat is all.</td>\n",
       "      <td>negative</td>\n",
       "    </tr>\n",
       "    <tr>\n",
       "      <th>5</th>\n",
       "      <td>Mexico Just Made a MAJOR Threat to President T...</td>\n",
       "      <td>neutral</td>\n",
       "    </tr>\n",
       "    <tr>\n",
       "      <th>6</th>\n",
       "      <td>Will We Stop Trump Before Its Too Late? https:...</td>\n",
       "      <td>neutral</td>\n",
       "    </tr>\n",
       "  </tbody>\n",
       "</table>\n",
       "</div>"
      ],
      "text/plain": [
       "                                               Tweet Sentiment\n",
       "0  @TomiLahren Jay Z poster boy of scum and ghett...  negative\n",
       "1  Texas elected official gets misdemeanor, accus...   neutral\n",
       "2  White House chief of staff urges Trump to remo...   neutral\n",
       "3  @Ronsmithracing2 @FlashResists @realDonaldTrum...   neutral\n",
       "4       @ZekeJMiller Trump is a liar. \\nThat is all.  negative\n",
       "5  Mexico Just Made a MAJOR Threat to President T...   neutral\n",
       "6  Will We Stop Trump Before Its Too Late? https:...   neutral"
      ]
     },
     "execution_count": 44,
     "metadata": {},
     "output_type": "execute_result"
    }
   ],
   "source": [
    "pd.options.display.max_columns = None\n",
    "sample.head(7)"
   ]
  },
  {
   "cell_type": "markdown",
   "metadata": {},
   "source": [
    "### 1.6.2 Analysis on Pie Chart:-"
   ]
  },
  {
   "cell_type": "code",
   "execution_count": 45,
   "metadata": {},
   "outputs": [
    {
     "data": {
      "text/html": [
       "<script>requirejs.config({paths: { 'plotly': ['https://cdn.plot.ly/plotly-latest.min']},});if(!window.Plotly) {{require(['plotly'],function(plotly) {window.Plotly=plotly;});}}</script>"
      ],
      "text/vnd.plotly.v1+html": [
       "<script>requirejs.config({paths: { 'plotly': ['https://cdn.plot.ly/plotly-latest.min']},});if(!window.Plotly) {{require(['plotly'],function(plotly) {window.Plotly=plotly;});}}</script>"
      ]
     },
     "metadata": {},
     "output_type": "display_data"
    },
    {
     "data": {
      "application/vnd.plotly.v1+json": {
       "data": [
        {
         "domain": {
          "x": [
           7,
           7
          ],
          "y": [
           7,
           7
          ]
         },
         "hoverinfo": "label+percent",
         "labels": [
          "Positive",
          "Negative",
          "Neutral"
         ],
         "marker": {
          "colors": [
           "#30a832",
           "#fc2c19",
           "#fcd219"
          ],
          "line": {
           "color": "#000000",
           "width": 3
          }
         },
         "type": "pie",
         "values": [
          2,
          28,
          70
         ]
        }
       ],
       "layout": {
        "autosize": true,
        "title": "Analysis For 100 Tweets Related to Donald Trump"
       }
      },
      "text/html": [
       "<div id=\"e92cf9e8-94cd-450d-b81c-02e91ded05ef\" style=\"height: 525px; width: 100%;\" class=\"plotly-graph-div\"></div><script type=\"text/javascript\">require([\"plotly\"], function(Plotly) { window.PLOTLYENV=window.PLOTLYENV || {};window.PLOTLYENV.BASE_URL=\"https://plot.ly\";Plotly.newPlot(\"e92cf9e8-94cd-450d-b81c-02e91ded05ef\", [{\"hoverinfo\": \"label+percent\", \"values\": [2, 28, 70], \"type\": \"pie\", \"labels\": [\"Positive\", \"Negative\", \"Neutral\"], \"domain\": {\"y\": [7.0, 7.0], \"x\": [7.0, 7.0]}, \"marker\": {\"colors\": [\"#30a832\", \"#fc2c19\", \"#fcd219\"], \"line\": {\"width\": 3, \"color\": \"#000000\"}}}], {\"title\": \"Analysis For 100 Tweets Related to Donald Trump\", \"autosize\": true}, {\"linkText\": \"Export to plot.ly\", \"showLink\": false})});</script>"
      ],
      "text/vnd.plotly.v1+html": [
       "<div id=\"e92cf9e8-94cd-450d-b81c-02e91ded05ef\" style=\"height: 525px; width: 100%;\" class=\"plotly-graph-div\"></div><script type=\"text/javascript\">require([\"plotly\"], function(Plotly) { window.PLOTLYENV=window.PLOTLYENV || {};window.PLOTLYENV.BASE_URL=\"https://plot.ly\";Plotly.newPlot(\"e92cf9e8-94cd-450d-b81c-02e91ded05ef\", [{\"hoverinfo\": \"label+percent\", \"values\": [2, 28, 70], \"type\": \"pie\", \"labels\": [\"Positive\", \"Negative\", \"Neutral\"], \"domain\": {\"y\": [7.0, 7.0], \"x\": [7.0, 7.0]}, \"marker\": {\"colors\": [\"#30a832\", \"#fc2c19\", \"#fcd219\"], \"line\": {\"width\": 3, \"color\": \"#000000\"}}}], {\"title\": \"Analysis For 100 Tweets Related to Donald Trump\", \"autosize\": true}, {\"linkText\": \"Export to plot.ly\", \"showLink\": false})});</script>"
      ]
     },
     "metadata": {},
     "output_type": "display_data"
    }
   ],
   "source": [
    "import plotly\n",
    "import plotly.offline as py\n",
    "import plotly.graph_objs as go\n",
    "py.init_notebook_mode(connected=True)\n",
    "\n",
    "labels = ['Positive', 'Negative', 'Neutral']\n",
    "values = [positive,negative,neutral]\n",
    "colors = ['#30a832', '#fc2c19', '#fcd219']\n",
    "domains = [\n",
    "    {'x': [7.0, 7.0], 'y': [7.0, 7.0]}\n",
    "]\n",
    "traces = []\n",
    "\n",
    "for domain in domains:\n",
    "    trace = go.Pie(labels = labels,\n",
    "                   values = values,\n",
    "                   domain = domain,\n",
    "                   hoverinfo = 'label+percent',\n",
    "                  marker=dict(colors=colors, \n",
    "                           line=dict(color='#000000', width=3)))\n",
    "    traces.append(trace)\n",
    "\n",
    "layout = go.Layout(\n",
    "                   autosize = True,\n",
    "                   title = 'Analysis For 100 Tweets Related to Donald Trump')\n",
    "fig = go.Figure(data = traces, layout = layout)\n",
    "py.offline.iplot(fig, show_link = False)"
   ]
  },
  {
   "cell_type": "markdown",
   "metadata": {},
   "source": [
    "# 1.7 Sentimental Analysis of 100 Tweets about IPL\n",
    "### 1.7.1 CSV File Sample:-"
   ]
  },
  {
   "cell_type": "code",
   "execution_count": 46,
   "metadata": {},
   "outputs": [
    {
     "data": {
      "text/html": [
       "<div>\n",
       "<style scoped>\n",
       "    .dataframe tbody tr th:only-of-type {\n",
       "        vertical-align: middle;\n",
       "    }\n",
       "\n",
       "    .dataframe tbody tr th {\n",
       "        vertical-align: top;\n",
       "    }\n",
       "\n",
       "    .dataframe thead th {\n",
       "        text-align: right;\n",
       "    }\n",
       "</style>\n",
       "<table border=\"1\" class=\"dataframe\">\n",
       "  <thead>\n",
       "    <tr style=\"text-align: right;\">\n",
       "      <th></th>\n",
       "      <th>Tweet</th>\n",
       "      <th>Sentiment</th>\n",
       "    </tr>\n",
       "  </thead>\n",
       "  <tbody>\n",
       "    <tr>\n",
       "      <th>0</th>\n",
       "      <td>@Sanam_Official Noo, sorry I was actually pre-...</td>\n",
       "      <td>neutral</td>\n",
       "    </tr>\n",
       "    <tr>\n",
       "      <th>1</th>\n",
       "      <td>Congratulations team kkr #ipl</td>\n",
       "      <td>positive</td>\n",
       "    </tr>\n",
       "    <tr>\n",
       "      <th>2</th>\n",
       "      <td>Pics-9: #ShahRukhKhan @iamsrk with #AbRam and ...</td>\n",
       "      <td>positive</td>\n",
       "    </tr>\n",
       "    <tr>\n",
       "      <th>3</th>\n",
       "      <td>A 50 off 19 balls by @SunilPNarine74 helped th...</td>\n",
       "      <td>neutral</td>\n",
       "    </tr>\n",
       "    <tr>\n",
       "      <th>4</th>\n",
       "      <td>Virat Kohli - \"I think we were 15 short with t...</td>\n",
       "      <td>negative</td>\n",
       "    </tr>\n",
       "    <tr>\n",
       "      <th>5</th>\n",
       "      <td>The hero tonight!! Take a bow sir We won!!!!!!...</td>\n",
       "      <td>positive</td>\n",
       "    </tr>\n",
       "    <tr>\n",
       "      <th>6</th>\n",
       "      <td>Virat Kohli - \"Me and AB getting out to a part...</td>\n",
       "      <td>neutral</td>\n",
       "    </tr>\n",
       "  </tbody>\n",
       "</table>\n",
       "</div>"
      ],
      "text/plain": [
       "                                               Tweet Sentiment\n",
       "0  @Sanam_Official Noo, sorry I was actually pre-...   neutral\n",
       "1                      Congratulations team kkr #ipl  positive\n",
       "2  Pics-9: #ShahRukhKhan @iamsrk with #AbRam and ...  positive\n",
       "3  A 50 off 19 balls by @SunilPNarine74 helped th...   neutral\n",
       "4  Virat Kohli - \"I think we were 15 short with t...  negative\n",
       "5  The hero tonight!! Take a bow sir We won!!!!!!...  positive\n",
       "6  Virat Kohli - \"Me and AB getting out to a part...   neutral"
      ]
     },
     "execution_count": 46,
     "metadata": {},
     "output_type": "execute_result"
    }
   ],
   "source": [
    "sample = pd.read_csv('Sentiment_Analysis_of_100_Tweets_About_IPL.csv')\n",
    "neutral = 0\n",
    "positive = 0\n",
    "negative = 0\n",
    "for i in sample['Sentiment']:\n",
    "    if i == 'neutral':\n",
    "        neutral+=1\n",
    "    elif i == 'positive':\n",
    "        positive+=1\n",
    "    elif i == 'negative':\n",
    "        negative+=1\n",
    "pd.options.display.max_columns = None\n",
    "sample.head(7)"
   ]
  },
  {
   "cell_type": "markdown",
   "metadata": {},
   "source": [
    "### 1.7.2 Analysis on Pie Chart:-"
   ]
  },
  {
   "cell_type": "code",
   "execution_count": 47,
   "metadata": {},
   "outputs": [
    {
     "data": {
      "application/vnd.plotly.v1+json": {
       "data": [
        {
         "domain": {
          "x": [
           7,
           7
          ],
          "y": [
           7,
           7
          ]
         },
         "hoverinfo": "label+percent",
         "labels": [
          "Positive",
          "Negative",
          "Neutral"
         ],
         "marker": {
          "colors": [
           "#30a832",
           "#fc2c19",
           "#fcd219"
          ],
          "line": {
           "color": "#000000",
           "width": 3
          }
         },
         "type": "pie",
         "values": [
          2,
          28,
          70
         ]
        },
        {
         "domain": {
          "x": [
           7,
           7
          ],
          "y": [
           7,
           7
          ]
         },
         "hoverinfo": "label+percent",
         "labels": [
          "Positive",
          "Negative",
          "Neutral"
         ],
         "marker": {
          "colors": [
           "#30a832",
           "#fc2c19",
           "#fcd219"
          ],
          "line": {
           "color": "#000000",
           "width": 3
          }
         },
         "type": "pie",
         "values": [
          27,
          16,
          57
         ]
        }
       ],
       "layout": {
        "autosize": true,
        "title": "Analysis For 100 Tweets Related to IPL"
       }
      },
      "text/html": [
       "<div id=\"646844f1-cfbd-4810-8c46-131f109f23de\" style=\"height: 525px; width: 100%;\" class=\"plotly-graph-div\"></div><script type=\"text/javascript\">require([\"plotly\"], function(Plotly) { window.PLOTLYENV=window.PLOTLYENV || {};window.PLOTLYENV.BASE_URL=\"https://plot.ly\";Plotly.newPlot(\"646844f1-cfbd-4810-8c46-131f109f23de\", [{\"hoverinfo\": \"label+percent\", \"values\": [2, 28, 70], \"type\": \"pie\", \"labels\": [\"Positive\", \"Negative\", \"Neutral\"], \"domain\": {\"y\": [7.0, 7.0], \"x\": [7.0, 7.0]}, \"marker\": {\"colors\": [\"#30a832\", \"#fc2c19\", \"#fcd219\"], \"line\": {\"width\": 3, \"color\": \"#000000\"}}}, {\"hoverinfo\": \"label+percent\", \"values\": [27, 16, 57], \"type\": \"pie\", \"labels\": [\"Positive\", \"Negative\", \"Neutral\"], \"domain\": {\"y\": [7.0, 7.0], \"x\": [7.0, 7.0]}, \"marker\": {\"colors\": [\"#30a832\", \"#fc2c19\", \"#fcd219\"], \"line\": {\"width\": 3, \"color\": \"#000000\"}}}], {\"title\": \"Analysis For 100 Tweets Related to IPL\", \"autosize\": true}, {\"linkText\": \"Export to plot.ly\", \"showLink\": false})});</script>"
      ],
      "text/vnd.plotly.v1+html": [
       "<div id=\"646844f1-cfbd-4810-8c46-131f109f23de\" style=\"height: 525px; width: 100%;\" class=\"plotly-graph-div\"></div><script type=\"text/javascript\">require([\"plotly\"], function(Plotly) { window.PLOTLYENV=window.PLOTLYENV || {};window.PLOTLYENV.BASE_URL=\"https://plot.ly\";Plotly.newPlot(\"646844f1-cfbd-4810-8c46-131f109f23de\", [{\"hoverinfo\": \"label+percent\", \"values\": [2, 28, 70], \"type\": \"pie\", \"labels\": [\"Positive\", \"Negative\", \"Neutral\"], \"domain\": {\"y\": [7.0, 7.0], \"x\": [7.0, 7.0]}, \"marker\": {\"colors\": [\"#30a832\", \"#fc2c19\", \"#fcd219\"], \"line\": {\"width\": 3, \"color\": \"#000000\"}}}, {\"hoverinfo\": \"label+percent\", \"values\": [27, 16, 57], \"type\": \"pie\", \"labels\": [\"Positive\", \"Negative\", \"Neutral\"], \"domain\": {\"y\": [7.0, 7.0], \"x\": [7.0, 7.0]}, \"marker\": {\"colors\": [\"#30a832\", \"#fc2c19\", \"#fcd219\"], \"line\": {\"width\": 3, \"color\": \"#000000\"}}}], {\"title\": \"Analysis For 100 Tweets Related to IPL\", \"autosize\": true}, {\"linkText\": \"Export to plot.ly\", \"showLink\": false})});</script>"
      ]
     },
     "metadata": {},
     "output_type": "display_data"
    }
   ],
   "source": [
    "values = [positive,negative,neutral]\n",
    "for domain in domains:\n",
    "    trace = go.Pie(labels = labels,\n",
    "                   values = values,\n",
    "                   domain = domain,\n",
    "                   hoverinfo = 'label+percent',\n",
    "                  marker=dict(colors=colors, \n",
    "                           line=dict(color='#000000', width=3)))\n",
    "    traces.append(trace)\n",
    "\n",
    "layout = go.Layout(\n",
    "                   autosize = True,\n",
    "                   title = 'Analysis For 100 Tweets Related to IPL')\n",
    "fig = go.Figure(data = traces, layout = layout)\n",
    "py.offline.iplot(fig, show_link = False)"
   ]
  },
  {
   "cell_type": "markdown",
   "metadata": {},
   "source": [
    "# 1.8 Sentimental Analysis of 100 Tweets about Avengers\n",
    "### 1.8.1 CSV File Sample:-"
   ]
  },
  {
   "cell_type": "code",
   "execution_count": 48,
   "metadata": {},
   "outputs": [
    {
     "data": {
      "text/html": [
       "<div>\n",
       "<style scoped>\n",
       "    .dataframe tbody tr th:only-of-type {\n",
       "        vertical-align: middle;\n",
       "    }\n",
       "\n",
       "    .dataframe tbody tr th {\n",
       "        vertical-align: top;\n",
       "    }\n",
       "\n",
       "    .dataframe thead th {\n",
       "        text-align: right;\n",
       "    }\n",
       "</style>\n",
       "<table border=\"1\" class=\"dataframe\">\n",
       "  <thead>\n",
       "    <tr style=\"text-align: right;\">\n",
       "      <th></th>\n",
       "      <th>Tweet</th>\n",
       "      <th>Sentiment</th>\n",
       "    </tr>\n",
       "  </thead>\n",
       "  <tbody>\n",
       "    <tr>\n",
       "      <th>0</th>\n",
       "      <td>Latest Avengers: Infinity War Trailer Puts Spo...</td>\n",
       "      <td>neutral</td>\n",
       "    </tr>\n",
       "    <tr>\n",
       "      <th>1</th>\n",
       "      <td>Women have made it so on social media they are...</td>\n",
       "      <td>neutral</td>\n",
       "    </tr>\n",
       "    <tr>\n",
       "      <th>2</th>\n",
       "      <td>@sweeet_caroline chris evans already said aven...</td>\n",
       "      <td>positive</td>\n",
       "    </tr>\n",
       "    <tr>\n",
       "      <th>3</th>\n",
       "      <td>We explain what the @Avengers #InfinityWar tra...</td>\n",
       "      <td>neutral</td>\n",
       "    </tr>\n",
       "    <tr>\n",
       "      <th>4</th>\n",
       "      <td>#BlackWidow #CaptainAmerica\\n#Romanogers #Capw...</td>\n",
       "      <td>neutral</td>\n",
       "    </tr>\n",
       "    <tr>\n",
       "      <th>5</th>\n",
       "      <td>@Marvel @Avengers In summation.  https://t.co/...</td>\n",
       "      <td>neutral</td>\n",
       "    </tr>\n",
       "    <tr>\n",
       "      <th>6</th>\n",
       "      <td>The crazy part bout the new avengers is #4 com...</td>\n",
       "      <td>neutral</td>\n",
       "    </tr>\n",
       "  </tbody>\n",
       "</table>\n",
       "</div>"
      ],
      "text/plain": [
       "                                               Tweet Sentiment\n",
       "0  Latest Avengers: Infinity War Trailer Puts Spo...   neutral\n",
       "1  Women have made it so on social media they are...   neutral\n",
       "2  @sweeet_caroline chris evans already said aven...  positive\n",
       "3  We explain what the @Avengers #InfinityWar tra...   neutral\n",
       "4  #BlackWidow #CaptainAmerica\\n#Romanogers #Capw...   neutral\n",
       "5  @Marvel @Avengers In summation.  https://t.co/...   neutral\n",
       "6  The crazy part bout the new avengers is #4 com...   neutral"
      ]
     },
     "execution_count": 48,
     "metadata": {},
     "output_type": "execute_result"
    }
   ],
   "source": [
    "sample = pd.read_csv('Sentiment_Analysis_of_100_Tweets_About_Avengers.csv')\n",
    "neutral = 0\n",
    "positive = 0\n",
    "negative = 0\n",
    "for i in sample['Sentiment']:\n",
    "    if i == 'neutral':\n",
    "        neutral+=1\n",
    "    elif i == 'positive':\n",
    "        positive+=1\n",
    "    elif i == 'negative':\n",
    "        negative+=1\n",
    "pd.options.display.max_columns = None\n",
    "sample.head(7)"
   ]
  },
  {
   "cell_type": "markdown",
   "metadata": {},
   "source": [
    "### 1.8.2 Analysis on Pie Chart:-"
   ]
  },
  {
   "cell_type": "code",
   "execution_count": 49,
   "metadata": {
    "scrolled": false
   },
   "outputs": [
    {
     "data": {
      "application/vnd.plotly.v1+json": {
       "data": [
        {
         "domain": {
          "x": [
           7,
           7
          ],
          "y": [
           7,
           7
          ]
         },
         "hoverinfo": "label+percent",
         "labels": [
          "Positive",
          "Negative",
          "Neutral"
         ],
         "marker": {
          "colors": [
           "#30a832",
           "#fc2c19",
           "#fcd219"
          ],
          "line": {
           "color": "#000000",
           "width": 3
          }
         },
         "type": "pie",
         "values": [
          2,
          28,
          70
         ]
        },
        {
         "domain": {
          "x": [
           7,
           7
          ],
          "y": [
           7,
           7
          ]
         },
         "hoverinfo": "label+percent",
         "labels": [
          "Positive",
          "Negative",
          "Neutral"
         ],
         "marker": {
          "colors": [
           "#30a832",
           "#fc2c19",
           "#fcd219"
          ],
          "line": {
           "color": "#000000",
           "width": 3
          }
         },
         "type": "pie",
         "values": [
          27,
          16,
          57
         ]
        },
        {
         "domain": {
          "x": [
           7,
           7
          ],
          "y": [
           7,
           7
          ]
         },
         "hoverinfo": "label+percent",
         "labels": [
          "Positive",
          "Negative",
          "Neutral"
         ],
         "marker": {
          "colors": [
           "#30a832",
           "#fc2c19",
           "#fcd219"
          ],
          "line": {
           "color": "#000000",
           "width": 3
          }
         },
         "type": "pie",
         "values": [
          24,
          12,
          64
         ]
        }
       ],
       "layout": {
        "autosize": true,
        "title": "Analysis For 100 Tweets Related to IPL"
       }
      },
      "text/html": [
       "<div id=\"38dc52ab-bbbe-45d6-a380-646205a7658d\" style=\"height: 525px; width: 100%;\" class=\"plotly-graph-div\"></div><script type=\"text/javascript\">require([\"plotly\"], function(Plotly) { window.PLOTLYENV=window.PLOTLYENV || {};window.PLOTLYENV.BASE_URL=\"https://plot.ly\";Plotly.newPlot(\"38dc52ab-bbbe-45d6-a380-646205a7658d\", [{\"hoverinfo\": \"label+percent\", \"values\": [2, 28, 70], \"type\": \"pie\", \"labels\": [\"Positive\", \"Negative\", \"Neutral\"], \"domain\": {\"y\": [7.0, 7.0], \"x\": [7.0, 7.0]}, \"marker\": {\"colors\": [\"#30a832\", \"#fc2c19\", \"#fcd219\"], \"line\": {\"width\": 3, \"color\": \"#000000\"}}}, {\"hoverinfo\": \"label+percent\", \"values\": [27, 16, 57], \"type\": \"pie\", \"labels\": [\"Positive\", \"Negative\", \"Neutral\"], \"domain\": {\"y\": [7.0, 7.0], \"x\": [7.0, 7.0]}, \"marker\": {\"colors\": [\"#30a832\", \"#fc2c19\", \"#fcd219\"], \"line\": {\"width\": 3, \"color\": \"#000000\"}}}, {\"hoverinfo\": \"label+percent\", \"values\": [24, 12, 64], \"type\": \"pie\", \"labels\": [\"Positive\", \"Negative\", \"Neutral\"], \"domain\": {\"y\": [7.0, 7.0], \"x\": [7.0, 7.0]}, \"marker\": {\"colors\": [\"#30a832\", \"#fc2c19\", \"#fcd219\"], \"line\": {\"width\": 3, \"color\": \"#000000\"}}}], {\"title\": \"Analysis For 100 Tweets Related to IPL\", \"autosize\": true}, {\"linkText\": \"Export to plot.ly\", \"showLink\": false})});</script>"
      ],
      "text/vnd.plotly.v1+html": [
       "<div id=\"38dc52ab-bbbe-45d6-a380-646205a7658d\" style=\"height: 525px; width: 100%;\" class=\"plotly-graph-div\"></div><script type=\"text/javascript\">require([\"plotly\"], function(Plotly) { window.PLOTLYENV=window.PLOTLYENV || {};window.PLOTLYENV.BASE_URL=\"https://plot.ly\";Plotly.newPlot(\"38dc52ab-bbbe-45d6-a380-646205a7658d\", [{\"hoverinfo\": \"label+percent\", \"values\": [2, 28, 70], \"type\": \"pie\", \"labels\": [\"Positive\", \"Negative\", \"Neutral\"], \"domain\": {\"y\": [7.0, 7.0], \"x\": [7.0, 7.0]}, \"marker\": {\"colors\": [\"#30a832\", \"#fc2c19\", \"#fcd219\"], \"line\": {\"width\": 3, \"color\": \"#000000\"}}}, {\"hoverinfo\": \"label+percent\", \"values\": [27, 16, 57], \"type\": \"pie\", \"labels\": [\"Positive\", \"Negative\", \"Neutral\"], \"domain\": {\"y\": [7.0, 7.0], \"x\": [7.0, 7.0]}, \"marker\": {\"colors\": [\"#30a832\", \"#fc2c19\", \"#fcd219\"], \"line\": {\"width\": 3, \"color\": \"#000000\"}}}, {\"hoverinfo\": \"label+percent\", \"values\": [24, 12, 64], \"type\": \"pie\", \"labels\": [\"Positive\", \"Negative\", \"Neutral\"], \"domain\": {\"y\": [7.0, 7.0], \"x\": [7.0, 7.0]}, \"marker\": {\"colors\": [\"#30a832\", \"#fc2c19\", \"#fcd219\"], \"line\": {\"width\": 3, \"color\": \"#000000\"}}}], {\"title\": \"Analysis For 100 Tweets Related to IPL\", \"autosize\": true}, {\"linkText\": \"Export to plot.ly\", \"showLink\": false})});</script>"
      ]
     },
     "metadata": {},
     "output_type": "display_data"
    }
   ],
   "source": [
    "values = [positive,negative,neutral]\n",
    "for domain in domains:\n",
    "    trace = go.Pie(labels = labels,\n",
    "                   values = values,\n",
    "                   domain = domain,\n",
    "                   hoverinfo = 'label+percent',\n",
    "                  marker=dict(colors=colors, \n",
    "                           line=dict(color='#000000', width=3)))\n",
    "    traces.append(trace)\n",
    "\n",
    "layout = go.Layout(\n",
    "                   autosize = True,\n",
    "                   title = 'Analysis For 100 Tweets Related to IPL')\n",
    "fig = go.Figure(data = traces, layout = layout)\n",
    "py.offline.iplot(fig, show_link = False)"
   ]
  },
  {
   "cell_type": "markdown",
   "metadata": {},
   "source": [
    "## 1.9 Drawbacks\n",
    "Text API used which only analysis limited amount of tweets at single hit."
   ]
  },
  {
   "cell_type": "markdown",
   "metadata": {},
   "source": [
    "## 1.10 Conclusion\n",
    "The classifies has achieved the accuracy around 80%. The peak value of accuracy is 87%.  "
   ]
  }
 ],
 "metadata": {
  "kernelspec": {
   "display_name": "Python 3",
   "language": "python",
   "name": "python3"
  },
  "language_info": {
   "codemirror_mode": {
    "name": "ipython",
    "version": 3
   },
   "file_extension": ".py",
   "mimetype": "text/x-python",
   "name": "python",
   "nbconvert_exporter": "python",
   "pygments_lexer": "ipython3",
   "version": "3.5.2"
  }
 },
 "nbformat": 4,
 "nbformat_minor": 2
}
